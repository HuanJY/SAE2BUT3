{
  "cells": [
    {
      "cell_type": "code",
      "execution_count": null,
      "metadata": {
        "colab": {
          "base_uri": "https://localhost:8080/"
        },
        "id": "aFDhT7TF3HFJ",
        "outputId": "f30c3ff5-c171-4230-fed9-61bb9916cc24"
      },
      "outputs": [
        {
          "name": "stdout",
          "output_type": "stream",
          "text": [
            "Collecting streamlit\n",
            "  Downloading streamlit-1.44.1-py3-none-any.whl.metadata (8.9 kB)\n",
            "Collecting pyngrok\n",
            "  Downloading pyngrok-7.2.3-py3-none-any.whl.metadata (8.7 kB)\n",
            "Requirement already satisfied: altair<6,>=4.0 in /usr/local/lib/python3.11/dist-packages (from streamlit) (5.5.0)\n",
            "Requirement already satisfied: blinker<2,>=1.0.0 in /usr/local/lib/python3.11/dist-packages (from streamlit) (1.9.0)\n",
            "Requirement already satisfied: cachetools<6,>=4.0 in /usr/local/lib/python3.11/dist-packages (from streamlit) (5.5.2)\n",
            "Requirement already satisfied: click<9,>=7.0 in /usr/local/lib/python3.11/dist-packages (from streamlit) (8.1.8)\n",
            "Requirement already satisfied: numpy<3,>=1.23 in /usr/local/lib/python3.11/dist-packages (from streamlit) (2.0.2)\n",
            "Requirement already satisfied: packaging<25,>=20 in /usr/local/lib/python3.11/dist-packages (from streamlit) (24.2)\n",
            "Requirement already satisfied: pandas<3,>=1.4.0 in /usr/local/lib/python3.11/dist-packages (from streamlit) (2.2.2)\n",
            "Requirement already satisfied: pillow<12,>=7.1.0 in /usr/local/lib/python3.11/dist-packages (from streamlit) (11.1.0)\n",
            "Requirement already satisfied: protobuf<6,>=3.20 in /usr/local/lib/python3.11/dist-packages (from streamlit) (5.29.4)\n",
            "Requirement already satisfied: pyarrow>=7.0 in /usr/local/lib/python3.11/dist-packages (from streamlit) (18.1.0)\n",
            "Requirement already satisfied: requests<3,>=2.27 in /usr/local/lib/python3.11/dist-packages (from streamlit) (2.32.3)\n",
            "Requirement already satisfied: tenacity<10,>=8.1.0 in /usr/local/lib/python3.11/dist-packages (from streamlit) (9.0.0)\n",
            "Requirement already satisfied: toml<2,>=0.10.1 in /usr/local/lib/python3.11/dist-packages (from streamlit) (0.10.2)\n",
            "Requirement already satisfied: typing-extensions<5,>=4.4.0 in /usr/local/lib/python3.11/dist-packages (from streamlit) (4.13.0)\n",
            "Collecting watchdog<7,>=2.1.5 (from streamlit)\n",
            "  Downloading watchdog-6.0.0-py3-none-manylinux2014_x86_64.whl.metadata (44 kB)\n",
            "\u001b[2K     \u001b[90m━━━━━━━━━━━━━━━━━━━━━━━━━━━━━━━━━━━━━━━━\u001b[0m \u001b[32m44.3/44.3 kB\u001b[0m \u001b[31m2.0 MB/s\u001b[0m eta \u001b[36m0:00:00\u001b[0m\n",
            "\u001b[?25hRequirement already satisfied: gitpython!=3.1.19,<4,>=3.0.7 in /usr/local/lib/python3.11/dist-packages (from streamlit) (3.1.44)\n",
            "Collecting pydeck<1,>=0.8.0b4 (from streamlit)\n",
            "  Downloading pydeck-0.9.1-py2.py3-none-any.whl.metadata (4.1 kB)\n",
            "Requirement already satisfied: tornado<7,>=6.0.3 in /usr/local/lib/python3.11/dist-packages (from streamlit) (6.4.2)\n",
            "Requirement already satisfied: PyYAML>=5.1 in /usr/local/lib/python3.11/dist-packages (from pyngrok) (6.0.2)\n",
            "Requirement already satisfied: jinja2 in /usr/local/lib/python3.11/dist-packages (from altair<6,>=4.0->streamlit) (3.1.6)\n",
            "Requirement already satisfied: jsonschema>=3.0 in /usr/local/lib/python3.11/dist-packages (from altair<6,>=4.0->streamlit) (4.23.0)\n",
            "Requirement already satisfied: narwhals>=1.14.2 in /usr/local/lib/python3.11/dist-packages (from altair<6,>=4.0->streamlit) (1.32.0)\n",
            "Requirement already satisfied: gitdb<5,>=4.0.1 in /usr/local/lib/python3.11/dist-packages (from gitpython!=3.1.19,<4,>=3.0.7->streamlit) (4.0.12)\n",
            "Requirement already satisfied: python-dateutil>=2.8.2 in /usr/local/lib/python3.11/dist-packages (from pandas<3,>=1.4.0->streamlit) (2.8.2)\n",
            "Requirement already satisfied: pytz>=2020.1 in /usr/local/lib/python3.11/dist-packages (from pandas<3,>=1.4.0->streamlit) (2025.2)\n",
            "Requirement already satisfied: tzdata>=2022.7 in /usr/local/lib/python3.11/dist-packages (from pandas<3,>=1.4.0->streamlit) (2025.2)\n",
            "Requirement already satisfied: charset-normalizer<4,>=2 in /usr/local/lib/python3.11/dist-packages (from requests<3,>=2.27->streamlit) (3.4.1)\n",
            "Requirement already satisfied: idna<4,>=2.5 in /usr/local/lib/python3.11/dist-packages (from requests<3,>=2.27->streamlit) (3.10)\n",
            "Requirement already satisfied: urllib3<3,>=1.21.1 in /usr/local/lib/python3.11/dist-packages (from requests<3,>=2.27->streamlit) (2.3.0)\n",
            "Requirement already satisfied: certifi>=2017.4.17 in /usr/local/lib/python3.11/dist-packages (from requests<3,>=2.27->streamlit) (2025.1.31)\n",
            "Requirement already satisfied: smmap<6,>=3.0.1 in /usr/local/lib/python3.11/dist-packages (from gitdb<5,>=4.0.1->gitpython!=3.1.19,<4,>=3.0.7->streamlit) (5.0.2)\n",
            "Requirement already satisfied: MarkupSafe>=2.0 in /usr/local/lib/python3.11/dist-packages (from jinja2->altair<6,>=4.0->streamlit) (3.0.2)\n",
            "Requirement already satisfied: attrs>=22.2.0 in /usr/local/lib/python3.11/dist-packages (from jsonschema>=3.0->altair<6,>=4.0->streamlit) (25.3.0)\n",
            "Requirement already satisfied: jsonschema-specifications>=2023.03.6 in /usr/local/lib/python3.11/dist-packages (from jsonschema>=3.0->altair<6,>=4.0->streamlit) (2024.10.1)\n",
            "Requirement already satisfied: referencing>=0.28.4 in /usr/local/lib/python3.11/dist-packages (from jsonschema>=3.0->altair<6,>=4.0->streamlit) (0.36.2)\n",
            "Requirement already satisfied: rpds-py>=0.7.1 in /usr/local/lib/python3.11/dist-packages (from jsonschema>=3.0->altair<6,>=4.0->streamlit) (0.24.0)\n",
            "Requirement already satisfied: six>=1.5 in /usr/local/lib/python3.11/dist-packages (from python-dateutil>=2.8.2->pandas<3,>=1.4.0->streamlit) (1.17.0)\n",
            "Downloading streamlit-1.44.1-py3-none-any.whl (9.8 MB)\n",
            "\u001b[2K   \u001b[90m━━━━━━━━━━━━━━━━━━━━━━━━━━━━━━━━━━━━━━━━\u001b[0m \u001b[32m9.8/9.8 MB\u001b[0m \u001b[31m66.5 MB/s\u001b[0m eta \u001b[36m0:00:00\u001b[0m\n",
            "\u001b[?25hDownloading pyngrok-7.2.3-py3-none-any.whl (23 kB)\n",
            "Downloading pydeck-0.9.1-py2.py3-none-any.whl (6.9 MB)\n",
            "\u001b[2K   \u001b[90m━━━━━━━━━━━━━━━━━━━━━━━━━━━━━━━━━━━━━━━━\u001b[0m \u001b[32m6.9/6.9 MB\u001b[0m \u001b[31m84.6 MB/s\u001b[0m eta \u001b[36m0:00:00\u001b[0m\n",
            "\u001b[?25hDownloading watchdog-6.0.0-py3-none-manylinux2014_x86_64.whl (79 kB)\n",
            "\u001b[2K   \u001b[90m━━━━━━━━━━━━━━━━━━━━━━━━━━━━━━━━━━━━━━━━\u001b[0m \u001b[32m79.1/79.1 kB\u001b[0m \u001b[31m4.8 MB/s\u001b[0m eta \u001b[36m0:00:00\u001b[0m\n",
            "\u001b[?25hInstalling collected packages: watchdog, pyngrok, pydeck, streamlit\n",
            "Successfully installed pydeck-0.9.1 pyngrok-7.2.3 streamlit-1.44.1 watchdog-6.0.0\n"
          ]
        }
      ],
      "source": [
        "!pip install streamlit pyngrok"
      ]
    },
    {
      "cell_type": "code",
      "execution_count": null,
      "metadata": {
        "colab": {
          "base_uri": "https://localhost:8080/"
        },
        "id": "W1zDdItv27OY",
        "outputId": "74d7d02c-889e-4878-d426-fdce80fe9229"
      },
      "outputs": [
        {
          "name": "stdout",
          "output_type": "stream",
          "text": [
            "Overwriting front.py\n"
          ]
        }
      ],
      "source": [
        "%%writefile front.py\n",
        "import streamlit as st\n",
        "import requests\n",
        "import os\n",
        "import io\n",
        "\n",
        "def main():\n",
        "    st.title(\"Chatbot Économique (RAG) - Squelette\")\n",
        "\n",
        "\n",
        "    if \"session_id\" not in st.session_state:\n",
        "        st.session_state[\"session_id\"] = None\n",
        "    if \"conversation_id\" not in st.session_state:\n",
        "        st.session_state[\"conversation_id\"] = None\n",
        "    if \"conversations\" not in st.session_state:\n",
        "        st.session_state[\"conversations\"] = {}\n",
        "    if \"messages\" not in st.session_state:\n",
        "        st.session_state[\"messages\"] = {}\n",
        "\n",
        "\n",
        "    # barre latérale : authentificairon\n",
        "\n",
        "    with st.sidebar:\n",
        "        st.subheader(\"Authentification\")\n",
        "        if st.session_state[\"session_id\"] is None:\n",
        "            username = st.text_input(\"Pseudo/Email\", \"\")\n",
        "            password = st.text_input(\"Mot de passe\", \"\", type=\"password\")\n",
        "\n",
        "            if st.button(\"Se connecter\"):\n",
        "                if username and password:\n",
        "                    # on simule un succès de connexion\n",
        "                    st.session_state[\"session_id\"] = \"session_demo_id\"\n",
        "                    st.success(\"Connecté avec succès.\")\n",
        "                else:\n",
        "                    st.error(\"Pseudo/Mot de passe invalide ou vide.\")\n",
        "        else:\n",
        "            st.success(\"Vous êtes connecté.\")\n",
        "            if st.button(\"Se déconnecter\"):\n",
        "                # on reinit la session\n",
        "                st.session_state[\"session_id\"] = None\n",
        "                st.session_state[\"conversation_id\"] = None\n",
        "                st.session_state[\"messages\"] = {}\n",
        "                st.session_state[\"conversations\"] = {}\n",
        "\n",
        "        st.write(\"---\")\n",
        "\n",
        "\n",
        "        # barre latérale : Upload PDF test\n",
        "\n",
        "        if st.session_state[\"session_id\"]:\n",
        "            st.subheader(\"Ingestion de PDFs\")\n",
        "            uploaded_files = st.file_uploader(\"Choisissez un ou plusieurs PDF\",\n",
        "                                              type=[\"pdf\"],\n",
        "                                              accept_multiple_files=True)\n",
        "            if st.button(\"Uploader et indexer\"):\n",
        "                if uploaded_files:\n",
        "                    st.success(\"PDF(s) 'envoyé(s)' et 'ingéré(s)'. (Fictif)\")\n",
        "                else:\n",
        "                    st.warning(\"Veuillez sélectionner au moins un PDF.\")\n",
        "\n",
        "        st.write(\"---\")\n",
        "\n",
        "\n",
        "        # barre latérale : liste des convo test\n",
        "\n",
        "        if st.session_state[\"session_id\"]:\n",
        "            st.subheader(\"Vos conversations\")\n",
        "\n",
        "            # affichage de la liste des convo\n",
        "            for cid, title in st.session_state[\"conversations\"].items():\n",
        "                if st.button(title, key=cid):\n",
        "                    st.session_state[\"conversation_id\"] = cid\n",
        "\n",
        "            # bouton pour créer une nouvelle conversation\n",
        "            if st.button(\"Nouvelle conversation\"):\n",
        "                new_cid = f\"conv_{len(st.session_state['conversations']) + 1}\"\n",
        "                st.session_state[\"conversations\"][new_cid] = f\"Conversation {len(st.session_state['conversations'])}\"\n",
        "                st.session_state[\"conversation_id\"] = new_cid\n",
        "                # init de la liste de messages pour cette conv\n",
        "                st.session_state[\"messages\"][new_cid] = []\n",
        "                st.success(f\"Nouvelle conversation créée : {new_cid}\")\n",
        "\n",
        "    # zone principale : Chat\n",
        "\n",
        "    if st.session_state[\"session_id\"]:\n",
        "        if st.session_state[\"conversation_id\"] is None:\n",
        "            st.info(\"Veuillez sélectionner ou créer une conversation dans la barre latérale.\")\n",
        "        else:\n",
        "            conv_id = st.session_state[\"conversation_id\"]\n",
        "            st.subheader(f\"Conversation en cours: {conv_id}\")\n",
        "\n",
        "            # l'historique de conversation\n",
        "            if conv_id in st.session_state[\"messages\"]:\n",
        "                for msg in st.session_state[\"messages\"][conv_id]:\n",
        "                    role, content = msg\n",
        "                    if role == \"user\":\n",
        "                        st.markdown(f\"**Vous**: {content}\")\n",
        "                    else:\n",
        "                        st.markdown(f\"**Assistant**: {content}\")\n",
        "\n",
        "            # barre pour poser une question\n",
        "            user_query = st.text_input(\"Posez une question basée sur vos PDF\")\n",
        "            if st.button(\"Envoyer\"):\n",
        "                if user_query.strip():\n",
        "                    #aj de la question dans l'historique\n",
        "                    st.session_state[\"messages\"][conv_id].append((\"user\", user_query))\n",
        "                    # simule une réponse de l'assistant\n",
        "                    assistant_reply = f\"Réponse fictive à la question: '{user_query}'\"\n",
        "                    st.session_state[\"messages\"][conv_id].append((\"assistant\", assistant_reply))\n",
        "                    st.write(f\"**Assistant**: {assistant_reply}\")\n",
        "                else:\n",
        "                    st.warning(\"Veuillez saisir une question valide.\")\n",
        "\n",
        "if __name__ == \"__main__\":\n",
        "    main()\n"
      ]
    },
    {
      "cell_type": "code",
      "execution_count": null,
      "metadata": {
        "colab": {
          "base_uri": "https://localhost:8080/"
        },
        "id": "s4WiaRtP3KWt",
        "outputId": "718dc895-0e0a-483e-96f1-08e9f3feac65"
      },
      "outputs": [
        {
          "data": {
            "text/plain": [
              "<NgrokTunnel: \"https://b4da-35-239-174-246.ngrok-free.app\" -> \"http://localhost:8502\">"
            ]
          },
          "execution_count": 13,
          "metadata": {},
          "output_type": "execute_result"
        }
      ],
      "source": [
        "from pyngrok import ngrok\n",
        "\n",
        "# authtoken\n",
        "ngrok.set_auth_token(\"letokken\")\n",
        "\n",
        "\n",
        "ngrok.kill()\n",
        "public_url = ngrok.connect(8502)\n",
        "public_url"
      ]
    },
    {
      "cell_type": "code",
      "execution_count": null,
      "metadata": {
        "colab": {
          "background_save": true,
          "base_uri": "https://localhost:8080/"
        },
        "id": "uSimTQhh32Lg",
        "outputId": "2929004c-6fcd-4c7b-d07c-0b44a0c7b0b9"
      },
      "outputs": [
        {
          "metadata": {
            "tags": null
          },
          "name": "stdout",
          "output_type": "stream",
          "text": [
            "\n",
            "Collecting usage statistics. To deactivate, set browser.gatherUsageStats to false.\n",
            "\u001b[0m\n",
            "\u001b[0m\n",
            "\u001b[34m\u001b[1m  You can now view your Streamlit app in your browser.\u001b[0m\n",
            "\u001b[0m\n",
            "\u001b[34m  Local URL: \u001b[0m\u001b[1mhttp://localhost:8502\u001b[0m\n",
            "\u001b[34m  Network URL: \u001b[0m\u001b[1mhttp://172.28.0.12:8502\u001b[0m\n",
            "\u001b[34m  External URL: \u001b[0m\u001b[1mhttp://35.239.174.246:8502\u001b[0m\n",
            "\u001b[0m\n"
          ]
        }
      ],
      "source": [
        "!streamlit run front.py --server.port 8502 --server.headless true &"
      ]
    }
  ],
  "metadata": {
    "colab": {
      "provenance": []
    },
    "kernelspec": {
      "display_name": "Python 3",
      "name": "python3"
    },
    "language_info": {
      "name": "python"
    }
  },
  "nbformat": 4,
  "nbformat_minor": 0
}